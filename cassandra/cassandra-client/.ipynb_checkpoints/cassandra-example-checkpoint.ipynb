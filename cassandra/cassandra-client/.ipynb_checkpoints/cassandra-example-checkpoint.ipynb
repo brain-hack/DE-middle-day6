{
 "cells": [
  {
   "cell_type": "code",
   "execution_count": 1,
   "metadata": {},
   "outputs": [
    {
     "name": "stdout",
     "output_type": "stream",
     "text": [
      "Collecting cassandra-driver\n",
      "  Downloading https://files.pythonhosted.org/packages/4a/a8/2cddc5316ee220772cce6dec7a3561f0165022a01a308fa11d77f195b399/cassandra-driver-3.20.2.tar.gz (482kB)\n",
      "\u001b[K    100% |################################| 491kB 669kB/s ta 0:00:011\n",
      "\u001b[?25hRequirement already satisfied: six>=1.9 in /usr/lib/python3/dist-packages (from cassandra-driver)\n",
      "Building wheels for collected packages: cassandra-driver\n",
      "  Running setup.py bdist_wheel for cassandra-driver ... \u001b[?25ldone\n",
      "\u001b[?25h  Stored in directory: /root/.cache/pip/wheels/b2/22/a0/77ab16988dfe73cc3e42141774606b3e41eb3f02225e22ba98\n",
      "Successfully built cassandra-driver\n",
      "Installing collected packages: cassandra-driver\n",
      "Successfully installed cassandra-driver-3.20.2\n"
     ]
    }
   ],
   "source": [
    "! pip3 install cassandra-driver"
   ]
  },
  {
   "cell_type": "code",
   "execution_count": 24,
   "metadata": {},
   "outputs": [],
   "source": [
    "from cassandra.cluster import Cluster\n",
    "from cassandra.auth import PlainTextAuthProvider"
   ]
  },
  {
   "cell_type": "code",
   "execution_count": 25,
   "metadata": {},
   "outputs": [],
   "source": [
    "auth_provider = PlainTextAuthProvider(username='cassandra', password='cassandra')"
   ]
  },
  {
   "cell_type": "code",
   "execution_count": 26,
   "metadata": {},
   "outputs": [
    {
     "name": "stderr",
     "output_type": "stream",
     "text": [
      "WARNING:cassandra.cluster:Cluster.__init__ called with contact_points specified, but no load_balancing_policy. In the next major version, this will raise an error; please specify a load-balancing policy. (contact_points = ['127.0.0.1'], lbp = None)\n"
     ]
    }
   ],
   "source": [
    "cluster = Cluster(['127.0.0.1'],port=9042,auth_provider=auth_provider)"
   ]
  },
  {
   "cell_type": "code",
   "execution_count": 27,
   "metadata": {},
   "outputs": [],
   "source": [
    "session = cluster.connect()"
   ]
  },
  {
   "cell_type": "markdown",
   "metadata": {},
   "source": [
    "# replication 설정 "
   ]
  },
  {
   "cell_type": "markdown",
   "metadata": {},
   "source": [
    "## class가 SimpleStrategy인 경우<br>\n",
    "\"class\" : \"SimpleStrategy\" - 'replication_factor' : N <br>\n",
    "- 전체 클러스터에 동일한 복제 요소를 할당\n",
    "- 평가 및 단일 데이터 센터 테스트 및 개발 환경에만 사용"
   ]
  },
  {
   "cell_type": "markdown",
   "metadata": {},
   "source": [
    "## class가 'NetworkTopologyStrategy인 경우<br>\n",
    "'NetworkTopologyStrategy'  -  'datacenter_name' : N <br>\n",
    "- 쉼표로 구분 된 목록의 각 데이터 센터에 복제 요소를 할당\n",
    "- 프로덕션 환경 및 다중 DC 테스트 및 개발 환경에서 사용\n",
    "- 데이터 센터 이름은 snitch DC 이름과 일치"
   ]
  },
  {
   "cell_type": "markdown",
   "metadata": {},
   "source": [
    "#### 멱등성 : 출력을 다시 입력에 넣어도 같은 출력   -> keyspace가 있으면 안 만든다"
   ]
  },
  {
   "cell_type": "code",
   "execution_count": 28,
   "metadata": {},
   "outputs": [],
   "source": [
    "def create_keyspace(session,keyspace):\n",
    "    session.execute(\"\"\" \\\n",
    "                    CREATE KEYSPACE IF NOT EXISTS {} \\\n",
    "                    WITH replication = {{'class': 'SimpleStrategy','replication_factor': '2' }} \\\n",
    "                    \"\"\".format(keyspace))"
   ]
  },
  {
   "cell_type": "code",
   "execution_count": 40,
   "metadata": {},
   "outputs": [],
   "source": [
    "create_keyspace(session,'example')"
   ]
  },
  {
   "cell_type": "code",
   "execution_count": 41,
   "metadata": {},
   "outputs": [],
   "source": [
    "session.set_keyspace('example')\n",
    "# or you can do this instead\n",
    "#session.execute('USE users')"
   ]
  },
  {
   "cell_type": "code",
   "execution_count": 126,
   "metadata": {},
   "outputs": [
    {
     "data": {
      "text/plain": [
       "<cassandra.cluster.ResultSet at 0x7f818eae3080>"
      ]
     },
     "execution_count": 126,
     "metadata": {},
     "output_type": "execute_result"
    }
   ],
   "source": [
    "session.execute(\"\"\"\n",
    "        CREATE TABLE IF NOT EXISTS mytable (\n",
    "            thekey text,\n",
    "            col1 text,\n",
    "            col2 text,\n",
    "            PRIMARY KEY (thekey)\n",
    "        )\n",
    "        \"\"\")"
   ]
  },
  {
   "cell_type": "code",
   "execution_count": 127,
   "metadata": {},
   "outputs": [],
   "source": [
    "from cassandra.query import SimpleStatement\n",
    "from cassandra import ConsistencyLevel\n",
    "\n",
    "query = SimpleStatement(\"\"\"\n",
    "        INSERT INTO mytable (thekey, col1, col2)\n",
    "        VALUES (%(key)s, %(a)s, %(b)s)\n",
    "        \"\"\", consistency_level=ConsistencyLevel.ONE)"
   ]
  },
  {
   "cell_type": "code",
   "execution_count": 128,
   "metadata": {},
   "outputs": [],
   "source": [
    "prepared = session.prepare(\"\"\"\n",
    "        INSERT INTO mytable (thekey, col1, col2)\n",
    "        VALUES (?, ?, ?)\n",
    "        \"\"\")"
   ]
  },
  {
   "cell_type": "code",
   "execution_count": 130,
   "metadata": {},
   "outputs": [],
   "source": [
    "for i in range(10):\n",
    "        if (i % 2) == 1:\n",
    "            session.execute(query, dict(key=\"key%d\" % i, a='a', b='b'))\n",
    "        else:\n",
    "            session.execute(prepared, (\"key%d\" % i, 'alpha', 'beta'))"
   ]
  },
  {
   "cell_type": "code",
   "execution_count": 131,
   "metadata": {},
   "outputs": [],
   "source": [
    "future = session.execute_async(\"SELECT * FROM mytable\")\n",
    "rows = future.result()"
   ]
  },
  {
   "cell_type": "code",
   "execution_count": 132,
   "metadata": {},
   "outputs": [
    {
     "name": "stdout",
     "output_type": "stream",
     "text": [
      "key5\ta\tb\n",
      "key6\talpha\tbeta\n",
      "key0\talpha\tbeta\n",
      "key1\ta\tb\n",
      "key9\ta\tb\n",
      "key4\talpha\tbeta\n",
      "key8\talpha\tbeta\n",
      "key3\ta\tb\n",
      "key7\ta\tb\n",
      "key2\talpha\tbeta\n"
     ]
    }
   ],
   "source": [
    "for row in rows:\n",
    "    print(\"\\t\".join(row))"
   ]
  },
  {
   "cell_type": "markdown",
   "metadata": {},
   "source": [
    "| Level | Description | Usage |\n",
    "|:---|:---|:---|\n",
    "|ALL | A write must be written to the commit log and memtable on all replica nodes in the cluster for that partition. | Provides the highest consistency and the lowest availability of any other level.|\n",
    "|EACH_QUORUM | Strong consistency. A write must be written to the commit log and memtable on a quorum of replica nodes in each datacenter. | Used in multiple datacenter clusters to strictly maintain consistency at the same level in each datacenter. For example, choose this level if you want a write to fail when a datacenter is down and the QUORUM cannot be reached on that datacenter.|\n",
    "|QUORUM | A write must be written to the commit log and memtable on a quorum of replica nodes across all datacenters. | Used in either single or multiple datacenter clusters to maintain strong consistency across the cluster. Use if you can tolerate some level of failure.|\n",
    "|LOCAL_QUORUM | Strong consistency. A write must be written to the commit log and memtable on a quorum of replica nodes in the same datacenter as the coordinator. Avoids latency of inter-datacenter communication. | Used in multiple datacenter clusters with a rack-aware replica placement strategy, such as NetworkTopologyStrategy, and a properly configured snitch. Use to maintain consistency locally (within the single datacenter). Can be used with SimpleStrategy.|\n",
    "|ONE | A write must be written to the commit log and memtable of at least one replica node. | Satisfies the needs of most users because consistency requirements are not stringent.|\n",
    "|TWO | A write must be written to the commit log and memtable of at least two replica nodes. | Similar to ONE.|\n",
    "|THREE | A write must be written to the commit log and memtable of at least three replica nodes. | Similar to TWO.|\n",
    "|LOCAL_ONE | A write must be sent to, and successfully acknowledged by, at least one replica node in the local datacenter. | In a multiple datacenter clusters, a consistency level of ONE is often desirable, but cross-DC traffic is not. LOCAL_ONE accomplishes this. For security and quality reasons, you can use this consistency level in an offline datacenter to prevent automatic connection to online nodes in other datacenters if an offline node goes down.|\n",
    "|ANY | A write must be written to at least one node. If all replica nodes for the given partition key are down, the write can still succeed after a hinted handoff has been written. If all replica nodes are down at write time, an ANY write is not readable until the replica nodes for that partition have recovered. | Provides low latency and a guarantee that a write never fails. Delivers the lowest consistency and highest availability.|"
   ]
  },
  {
   "cell_type": "code",
   "execution_count": 133,
   "metadata": {},
   "outputs": [],
   "source": [
    "query = SimpleStatement(\"\"\"\n",
    "        INSERT INTO mytable (thekey, col1)\n",
    "        VALUES (%(key)s, %(a)s)\n",
    "        \"\"\", consistency_level=ConsistencyLevel.ONE)"
   ]
  },
  {
   "cell_type": "code",
   "execution_count": 134,
   "metadata": {},
   "outputs": [],
   "source": [
    "prepared = session.prepare(\"\"\"\n",
    "        INSERT INTO mytable (thekey, col2)\n",
    "        VALUES (?, ?)\n",
    "        \"\"\")"
   ]
  },
  {
   "cell_type": "code",
   "execution_count": 138,
   "metadata": {},
   "outputs": [],
   "source": [
    "for i in range(100):\n",
    "    if (i % 2) == 1:\n",
    "        session.execute(query, dict(key=\"key%d\" % i, a='aaaa'))\n",
    "    else:\n",
    "        session.execute(prepared, (\"key%d\" % i, 'bbbbbb'))"
   ]
  },
  {
   "cell_type": "code",
   "execution_count": 125,
   "metadata": {},
   "outputs": [
    {
     "data": {
      "text/plain": [
       "<cassandra.cluster.ResultSet at 0x7f818e798da0>"
      ]
     },
     "execution_count": 125,
     "metadata": {},
     "output_type": "execute_result"
    }
   ],
   "source": [
    "session.execute(\"\"\"drop table mytable\"\"\")"
   ]
  },
  {
   "cell_type": "code",
   "execution_count": null,
   "metadata": {},
   "outputs": [],
   "source": []
  }
 ],
 "metadata": {
  "kernelspec": {
   "display_name": "Python 3",
   "language": "python",
   "name": "python3"
  },
  "language_info": {
   "codemirror_mode": {
    "name": "ipython",
    "version": 3
   },
   "file_extension": ".py",
   "mimetype": "text/x-python",
   "name": "python",
   "nbconvert_exporter": "python",
   "pygments_lexer": "ipython3",
   "version": "3.6.9"
  }
 },
 "nbformat": 4,
 "nbformat_minor": 2
}
