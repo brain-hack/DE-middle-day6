{
 "cells": [
  {
   "cell_type": "code",
   "execution_count": 1,
   "metadata": {},
   "outputs": [],
   "source": [
    "from pyspark import SparkContext"
   ]
  },
  {
   "cell_type": "code",
   "execution_count": 2,
   "metadata": {},
   "outputs": [],
   "source": [
    "sc = SparkContext(\"local\", \"First App\")"
   ]
  },
  {
   "cell_type": "code",
   "execution_count": 3,
   "metadata": {},
   "outputs": [],
   "source": [
    "data_from_file = sc.\\\n",
    "    textFile(\n",
    "        './trades.csv', \n",
    "        4)"
   ]
  },
  {
   "cell_type": "code",
   "execution_count": 4,
   "metadata": {},
   "outputs": [
    {
     "data": {
      "text/plain": [
       "['\"code\",\"timestamp\",\"trade_timestamp\",\"trade_price\",\"trade_volume\",\"ask_bid\",\"prev_closing_price\",\"change\",\"change_price\",\"sequential_id\"']"
      ]
     },
     "execution_count": 4,
     "metadata": {},
     "output_type": "execute_result"
    }
   ],
   "source": [
    "data_from_file.take(1)"
   ]
  },
  {
   "cell_type": "code",
   "execution_count": 5,
   "metadata": {},
   "outputs": [],
   "source": [
    "data_splited = data_from_file.map(lambda row: row.replace('\"', '').split(','))"
   ]
  },
  {
   "cell_type": "code",
   "execution_count": 6,
   "metadata": {},
   "outputs": [
    {
     "data": {
      "text/plain": [
       "[['code',\n",
       "  'timestamp',\n",
       "  'trade_timestamp',\n",
       "  'trade_price',\n",
       "  'trade_volume',\n",
       "  'ask_bid',\n",
       "  'prev_closing_price',\n",
       "  'change',\n",
       "  'change_price',\n",
       "  'sequential_id']]"
      ]
     },
     "execution_count": 6,
     "metadata": {},
     "output_type": "execute_result"
    }
   ],
   "source": [
    "data_splited.take(1)"
   ]
  },
  {
   "cell_type": "code",
   "execution_count": 7,
   "metadata": {},
   "outputs": [],
   "source": [
    "data_filted = data_splited.filter(lambda row: not 'code' in row[0])"
   ]
  },
  {
   "cell_type": "code",
   "execution_count": 8,
   "metadata": {},
   "outputs": [
    {
     "data": {
      "text/plain": [
       "[['KRW-BTC',\n",
       "  '1575565396512',\n",
       "  '1575565396000',\n",
       "  '8605000.0',\n",
       "  '0.04918971',\n",
       "  'ASK',\n",
       "  '8515000.0',\n",
       "  'RISE',\n",
       "  '90000.0',\n",
       "  '1575565396000000']]"
      ]
     },
     "execution_count": 8,
     "metadata": {},
     "output_type": "execute_result"
    }
   ],
   "source": [
    "data_filted.take(1)"
   ]
  },
  {
   "cell_type": "code",
   "execution_count": 11,
   "metadata": {},
   "outputs": [],
   "source": [
    "data_map = data_filted.map(lambda row: (row[0], 1))"
   ]
  },
  {
   "cell_type": "code",
   "execution_count": 13,
   "metadata": {},
   "outputs": [
    {
     "data": {
      "text/plain": [
       "[('KRW-BTC', 1),\n",
       " ('KRW-BTC', 1),\n",
       " ('KRW-BTC', 1),\n",
       " ('KRW-BTC', 1),\n",
       " ('KRW-BTC', 1),\n",
       " ('KRW-BTC', 1),\n",
       " ('KRW-BTC', 1),\n",
       " ('KRW-BCH', 1),\n",
       " ('KRW-BTC', 1),\n",
       " ('KRW-BTC', 1)]"
      ]
     },
     "execution_count": 13,
     "metadata": {},
     "output_type": "execute_result"
    }
   ],
   "source": [
    "data_map.take(10)"
   ]
  },
  {
   "cell_type": "code",
   "execution_count": 14,
   "metadata": {},
   "outputs": [],
   "source": [
    "data_count = data_map.reduceByKey(lambda x,y:x+y)"
   ]
  },
  {
   "cell_type": "code",
   "execution_count": 16,
   "metadata": {},
   "outputs": [
    {
     "data": {
      "text/plain": [
       "[('KRW-BCH', 27), ('KRW-XRP', 17), ('KRW-BTC', 232), ('KRW-ETH', 20)]"
      ]
     },
     "execution_count": 16,
     "metadata": {},
     "output_type": "execute_result"
    }
   ],
   "source": [
    "data_count.collect()"
   ]
  },
  {
   "cell_type": "code",
   "execution_count": null,
   "metadata": {},
   "outputs": [],
   "source": [
    "word_count = data_from_file.map(lambda row: row.split(','))\n",
    "                           .filter(lambda row: not 'code' in row[0])\n",
    "                           .map(lambda row: (row[0], 1))\n",
    "                           .reduceByKey(lambda x,y:x+y)"
   ]
  }
 ],
 "metadata": {
  "kernelspec": {
   "display_name": "Python 3",
   "language": "python",
   "name": "python3"
  },
  "language_info": {
   "codemirror_mode": {
    "name": "ipython",
    "version": 3
   },
   "file_extension": ".py",
   "mimetype": "text/x-python",
   "name": "python",
   "nbconvert_exporter": "python",
   "pygments_lexer": "ipython3",
   "version": "3.7.3"
  }
 },
 "nbformat": 4,
 "nbformat_minor": 2
}
